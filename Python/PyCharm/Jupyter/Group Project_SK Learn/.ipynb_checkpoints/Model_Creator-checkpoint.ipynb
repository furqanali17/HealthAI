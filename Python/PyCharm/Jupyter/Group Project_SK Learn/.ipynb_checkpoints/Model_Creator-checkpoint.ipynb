{
 "cells": [
  {
   "cell_type": "code",
   "execution_count": 1,
   "id": "6f56546a",
   "metadata": {},
   "outputs": [],
   "source": [
    "import numpy as np\n",
    "import pandas as pd\n",
    "from sklearn import datasets\n",
    "from sklearn.model_selection import cross_val_score\n",
    "from sklearn.model_selection import KFold\n",
    "from sklearn.model_selection import train_test_split\n",
    "from sklearn.preprocessing import MinMaxScaler\n",
    "from sklearn.preprocessing import OneHotEncoder\n",
    "from sklearn.linear_model import LogisticRegression\n",
    "from sklearn.linear_model import Perceptron\n",
    "from sklearn.metrics import accuracy_score\n",
    "from sklearn.pipeline import make_pipeline\n",
    "from sklearn.svm import SVR\n",
    "from sklearn.compose import make_column_transformer\n",
    "import pickle\n",
    "import firebase_admin as fb_a\n",
    "from firebase_admin import credentials, db"
   ]
  },
  {
   "cell_type": "code",
   "execution_count": 2,
   "id": "ecb36f57",
   "metadata": {},
   "outputs": [],
   "source": [
    "def read_models():\n",
    "    hd_df = pd.read_csv(\"Datasets/hd_dataset.csv\")\n",
    "    hd_X, hd_y = hd_df.drop(columns='HeartDisease'), hd_df['HeartDisease']\n",
    "\n",
    "    lc_df = pd.read_csv(\"Datasets/lc_dataset.csv\")\n",
    "    lc_X, lc_y = lc_df.drop(columns=['index', 'Patient Id', 'Level']), lc_df['Level']\n",
    "\n",
    "    cc_df = pd.read_csv(\"Datasets/cc_dataset.csv\")\n",
    "    cc_X, cc_y = cc_df.drop(columns='hasColonCancer'), cc_df['hasColonCancer']\n",
    "    \n",
    "    return hd_X, hd_y, lc_X, lc_y, cc_X, cc_y\n",
    "\n",
    "hd_X, hd_y, lc_X, lc_y, cc_X, cc_y = read_models()"
   ]
  },
  {
   "cell_type": "code",
   "execution_count": 3,
   "id": "43cc1b02",
   "metadata": {},
   "outputs": [],
   "source": [
    "yn_map = {'Yes': 1, 'No': 0}\n",
    "yn_cols = ['Smoking', 'AlcoholDrinking', 'Stroke', 'DiffWalking', 'PhysicalActivity', 'Asthma', 'KidneyDisease', 'SkinCancer']\n",
    "\n",
    "hd_X[yn_cols] = hd_X[yn_cols].replace(yn_map)\n",
    "hd_X['Sex'] = hd_X['Sex'].replace({'Male': 0, 'Female': 1})"
   ]
  },
  {
   "cell_type": "code",
   "execution_count": 4,
   "id": "d26af0ae",
   "metadata": {},
   "outputs": [],
   "source": [
    "def split_categories(features):\n",
    "    cat_features = features.select_dtypes(include=['object', 'bool'])\n",
    "    num_features = features.select_dtypes(include=['int64', 'float64'])\n",
    "    return cat_features, num_features\n",
    "\n",
    "hd_cat, hd_num = split_categories(hd_X)\n",
    "lc_cat, lc_num = split_categories(lc_X)\n",
    "cc_cat, cc_num = split_categories(cc_X)"
   ]
  },
  {
   "cell_type": "code",
   "execution_count": 8,
   "id": "440ab345",
   "metadata": {},
   "outputs": [],
   "source": [
    "def create_scalers(hd_num, lc_num, cc_num):\n",
    "    hd_mms = MinMaxScaler()\n",
    "\n",
    "    hd_mms.fit(hd_num)\n",
    "    num_portion = hd_mms.transform(hd_num)\n",
    "    num_feature_names = hd_mms.get_feature_names_out(hd_num.columns)\n",
    "\n",
    "    lc_mms = MinMaxScaler()\n",
    "\n",
    "    lc_mms.fit(lc_num)\n",
    "    num_portion = lc_mms.transform(lc_num)\n",
    "    num_feature_names = lc_mms.get_feature_names_out(lc_num.columns)\n",
    "\n",
    "    cc_mms = MinMaxScaler()\n",
    "\n",
    "    cc_mms.fit(cc_num)\n",
    "    num_portion = cc_mms.transform(cc_num)\n",
    "    num_feature_names = cc_mms.get_feature_names_out(cc_num.columns)\n",
    "    \n",
    "    return hd_mms, lc_mms, cc_mms\n",
    "\n",
    "save_scalers(*create_scalers(hd_num, lc_num, cc_num))"
   ]
  },
  {
   "cell_type": "code",
   "execution_count": 9,
   "id": "cd44d72a",
   "metadata": {},
   "outputs": [],
   "source": [
    "def transform_df(cat_cols, num_cols):\n",
    "    ohe = OneHotEncoder()\n",
    "    mms = MinMaxScaler()\n",
    "    \n",
    "    ohe.fit(cat_cols)\n",
    "    cat_portion = ohe.transform(cat_cols).toarray()\n",
    "    cat_feature_names = ohe.get_feature_names_out(cat_cols.columns)\n",
    "    \n",
    "    mms.fit(num_cols)\n",
    "    num_portion = mms.transform(num_cols)\n",
    "    num_feature_names = mms.get_feature_names_out(num_cols.columns)\n",
    "    \n",
    "    result = pd.concat([pd.DataFrame(cat_portion,columns=cat_feature_names).astype(int), \n",
    "               pd.DataFrame(num_portion,columns=num_feature_names).astype(float)], axis=1)\n",
    "    \n",
    "    return result\n",
    "\n",
    "hd_X = transform_df(hd_cat, hd_num)\n",
    "lc_X = transform_df(lc_cat, lc_num)\n",
    "cc_X = transform_df(cc_cat, cc_num)"
   ]
  },
  {
   "cell_type": "code",
   "execution_count": 11,
   "id": "a112650b",
   "metadata": {},
   "outputs": [],
   "source": [
    "def train_perceptron(X, y, n_splits=10, shuffle=True):\n",
    "    kf = KFold(n_splits = n_splits, shuffle = shuffle)\n",
    "    model = Perceptron()\n",
    "    accuracy_scores = []\n",
    "    \n",
    "    for train_index, test_index in kf.split(X):\n",
    "        X_train, X_test = X.iloc[train_index], X.iloc[test_index]\n",
    "        y_train, y_test = y.iloc[train_index], y.iloc[test_index]\n",
    "        \n",
    "        model.fit(X_train, y_train)\n",
    "    \n",
    "        y_pred = model.predict(X_test)\n",
    "    \n",
    "        accuracy = accuracy_score(y_test, y_pred)\n",
    "        accuracy_scores.append(accuracy)\n",
    "        \n",
    "    mean_scores = np.mean(accuracy_scores)\n",
    "    \n",
    "    return model, mean_scores\n",
    "    \n",
    "hd_model, hd_mean_acc = train_perceptron(hd_X, hd_y)\n",
    "lc_model, lc_mean_acc = train_perceptron(lc_X, lc_y)\n",
    "cc_model, cc_mean_acc = train_perceptron(cc_X, cc_y)"
   ]
  },
  {
   "cell_type": "code",
   "execution_count": 12,
   "id": "cedc26f9",
   "metadata": {},
   "outputs": [
    {
     "name": "stdout",
     "output_type": "stream",
     "text": [
      "=== Heart Disease ===\n",
      "=== Lung Cancer ===\n",
      "=== Colon Cancer ===\n",
      "=== Heart Disease ===\n",
      "=== Lung Cancer ===\n",
      "=== Colon Cancer ===\n",
      "=== Heart Disease ===\n",
      "=== Lung Cancer ===\n",
      "=== Colon Cancer ===\n",
      "=== Heart Disease ===\n",
      "=== Lung Cancer ===\n",
      "=== Colon Cancer ===\n",
      "=== Heart Disease ===\n",
      "=== Lung Cancer ===\n",
      "=== Colon Cancer ===\n",
      "=== Heart Disease ===\n",
      "=== Lung Cancer ===\n",
      "=== Colon Cancer ===\n",
      "=== Heart Disease ===\n",
      "=== Lung Cancer ===\n",
      "=== Colon Cancer ===\n",
      "=== Heart Disease ===\n",
      "=== Lung Cancer ===\n",
      "=== Colon Cancer ===\n",
      "=== Heart Disease ===\n",
      "=== Lung Cancer ===\n",
      "=== Colon Cancer ===\n",
      "=== Heart Disease ===\n",
      "=== Lung Cancer ===\n",
      "=== Colon Cancer ===\n"
     ]
    }
   ],
   "source": [
    "def find_best_n_splits(X, y):\n",
    "    best_accuracy = 0\n",
    "    best_n_splits = None\n",
    "    best_model = None\n",
    "    for i in range(2, 10):\n",
    "        current_model, current_accuracy = train_perceptron(X, y, n_splits=i)\n",
    "        if current_accuracy > best_accuracy:\n",
    "            best_n_splits = i\n",
    "            best_accuracy = current_accuracy\n",
    "            best_model = current_model\n",
    "            \n",
    "    return best_accuracy, best_model\n",
    "   \n",
    "    print(f'Best number of splits for current model: {best_n_splits}')\n",
    "\n",
    "hd_best = None\n",
    "hd_acc = 0\n",
    "lc_best = None\n",
    "lc_acc = 0\n",
    "cc_best = None\n",
    "cc_acc = 0\n",
    "\n",
    "for i in range(10):\n",
    "    print(f'=== Heart Disease ===')\n",
    "    hd_new_acc, hd_curr = find_best_n_splits(hd_X, hd_y)\n",
    "    if hd_new_acc > hd_acc:\n",
    "        hd_best = hd_curr\n",
    "        hd_acc = hd_new_acc\n",
    "        \n",
    "    print(f'=== Lung Cancer ===')\n",
    "    lc_new_acc, lc_curr = find_best_n_splits(lc_X, lc_y)\n",
    "    if lc_new_acc > lc_acc:\n",
    "        lc_best = lc_curr\n",
    "        lc_acc = lc_new_acc\n",
    "        \n",
    "    print(f'=== Colon Cancer ===')\n",
    "    cc_new_acc, cc_curr = find_best_n_splits(cc_X, cc_y)\n",
    "    if cc_new_acc > cc_acc:\n",
    "        cc_best = cc_curr\n",
    "        cc_acc = cc_new_acc"
   ]
  },
  {
   "cell_type": "code",
   "execution_count": 13,
   "id": "d7a38e99",
   "metadata": {},
   "outputs": [
    {
     "data": {
      "text/plain": [
       "(0.913750997963485, 0.9750138277661544, 0.8480000000000001)"
      ]
     },
     "execution_count": 13,
     "metadata": {},
     "output_type": "execute_result"
    }
   ],
   "source": [
    "hd_acc, lc_acc, cc_acc"
   ]
  },
  {
   "cell_type": "code",
   "execution_count": 14,
   "id": "556a64d7",
   "metadata": {},
   "outputs": [],
   "source": [
    "def save_models(hd_model, lc_model, cc_model):\n",
    "    hd_filename = 'hd_model.sav'\n",
    "    lc_filename = 'lc_model.sav'\n",
    "    cc_filename = 'cc_model.sav'\n",
    "\n",
    "    pickle.dump(hd_model, open(hd_filename, 'wb'))\n",
    "    pickle.dump(lc_model, open(lc_filename, 'wb'))\n",
    "    pickle.dump(cc_model, open(cc_filename, 'wb'))\n",
    "    \n",
    "save_models(hd_best, lc_best, cc_best)"
   ]
  },
  {
   "cell_type": "code",
   "execution_count": 16,
   "id": "f315a632",
   "metadata": {},
   "outputs": [
    {
     "data": {
      "text/plain": [
       "(Index(['AgeCategory_18-24', 'AgeCategory_25-29', 'AgeCategory_30-34',\n",
       "        'AgeCategory_35-39', 'AgeCategory_40-44', 'AgeCategory_45-49',\n",
       "        'AgeCategory_50-54', 'AgeCategory_55-59', 'AgeCategory_60-64',\n",
       "        'AgeCategory_65-69', 'AgeCategory_70-74', 'AgeCategory_75-79',\n",
       "        'AgeCategory_80 or older', 'Race_American Indian/Alaskan Native',\n",
       "        'Race_Asian', 'Race_Black', 'Race_Hispanic', 'Race_Other', 'Race_White',\n",
       "        'Diabetic_No', 'Diabetic_No, borderline diabetes', 'Diabetic_Yes',\n",
       "        'Diabetic_Yes (during pregnancy)', 'GenHealth_Excellent',\n",
       "        'GenHealth_Fair', 'GenHealth_Good', 'GenHealth_Poor',\n",
       "        'GenHealth_Very good', 'BMI', 'Smoking', 'AlcoholDrinking', 'Stroke',\n",
       "        'PhysicalHealth', 'MentalHealth', 'DiffWalking', 'Sex',\n",
       "        'PhysicalActivity', 'SleepTime', 'Asthma', 'KidneyDisease',\n",
       "        'SkinCancer'],\n",
       "       dtype='object'),\n",
       " Index(['Age', 'Gender', 'Air Pollution', 'Alcohol use', 'Dust Allergy',\n",
       "        'OccuPational Hazards', 'Genetic Risk', 'chronic Lung Disease',\n",
       "        'Balanced Diet', 'Obesity', 'Smoking', 'Passive Smoker', 'Chest Pain',\n",
       "        'Coughing of Blood', 'Fatigue', 'Weight Loss', 'Shortness of Breath',\n",
       "        'Wheezing', 'Swallowing Difficulty', 'Clubbing of Finger Nails',\n",
       "        'Frequent Cold', 'Dry Cough', 'Snoring'],\n",
       "       dtype='object'),\n",
       " Index(['hadPreviousCancer', 'hadPreviousColonCancer', 'hasFamilyHistory',\n",
       "        'hadRadiationTherapy', 'isOldAge', 'hasIBD', 'hasObesity', 'isSmoker',\n",
       "        'isDrinker', 'exercisesRegularly', 'hasHighFatDiet'],\n",
       "       dtype='object'))"
      ]
     },
     "execution_count": 16,
     "metadata": {},
     "output_type": "execute_result"
    }
   ],
   "source": [
    "hd_X.columns, lc_X.columns, cc_X.columns"
   ]
  },
  {
   "cell_type": "code",
   "execution_count": 6,
   "id": "2c125533",
   "metadata": {},
   "outputs": [],
   "source": [
    "def save_scalers(hd_scaler, lc_scaler, cc_scaler):\n",
    "    hd_filename = 'hd_scaler.sav'\n",
    "    lc_filename = 'lc_scaler.sav'\n",
    "    cc_filename = 'cc_scaler.sav'\n",
    "    \n",
    "    pickle.dump(hd_scaler, open(hd_filename, 'wb'))\n",
    "    pickle.dump(lc_scaler, open(lc_filename, 'wb'))\n",
    "    pickle.dump(cc_scaler, open(cc_filename, 'wb'))"
   ]
  },
  {
   "cell_type": "code",
   "execution_count": null,
   "id": "6fba346d",
   "metadata": {},
   "outputs": [],
   "source": [
    "def load_models():\n",
    "    hd_filename = 'hd_model.sav'\n",
    "    lc_filename = 'lc_model.sav'\n",
    "    cc_filename = 'cc_model.sav'\n",
    "    \n",
    "    hd_model = pickle.load(open(hd_filename, 'rb'))\n",
    "    lc_model = pickle.load(open(lc_filename, 'rb'))\n",
    "    cc_model = pickle.load(open(cc_filename, 'rb'))\n",
    "    \n",
    "    return hd_model, lc_model, cc_model"
   ]
  },
  {
   "cell_type": "code",
   "execution_count": null,
   "id": "cc58ada1",
   "metadata": {},
   "outputs": [],
   "source": [
    "def load_scaler():\n",
    "    scaler_filename = 'scaler.sav'\n",
    "    scaler = pickle.load(open(scaler_filename, 'rb'))\n",
    "    \n",
    "    return scaler"
   ]
  },
  {
   "cell_type": "code",
   "execution_count": 23,
   "id": "de605138",
   "metadata": {},
   "outputs": [
    {
     "data": {
      "text/plain": [
       "{'age': 21,\n",
       " 'airPollution': 1,\n",
       " 'alcoholUse': 1,\n",
       " 'balancedDiet': 1,\n",
       " 'bmi': 123,\n",
       " 'chestPain': 1,\n",
       " 'chronicLungDisease': 1,\n",
       " 'clubbingFingerNails': 1,\n",
       " 'coughing': 1,\n",
       " 'diabetic': 'Yes',\n",
       " 'difficultyWalking': True,\n",
       " 'doesDrinkAlcohol': True,\n",
       " 'dryCough': 1,\n",
       " 'dustAllergies': 1,\n",
       " 'exercisesRegularly': True,\n",
       " 'fatigue': 1,\n",
       " 'frequentColds': 1,\n",
       " 'gender': True,\n",
       " 'generalHealth': 'Poor',\n",
       " 'geneticRisk': 0,\n",
       " 'hadKidneyDisease': True,\n",
       " 'hadPreviousCancer': True,\n",
       " 'hadPreviousColonCancer': True,\n",
       " 'hadPreviousSkinCancer': True,\n",
       " 'hasAsthma': True,\n",
       " 'hasFamilyHistory': True,\n",
       " 'hasHadStroke': True,\n",
       " 'hasHighFatDiet': True,\n",
       " 'hasIDB': True,\n",
       " 'hasObesity': True,\n",
       " 'obesity': 1,\n",
       " 'occupationalHazards': 1,\n",
       " 'oldAge': False,\n",
       " 'passiveSmoker': 1,\n",
       " 'physicalActivity': True,\n",
       " 'physicalHealth': 25,\n",
       " 'race': 'White',\n",
       " 'sex': 'M',\n",
       " 'shortnessOfBreath': 1,\n",
       " 'sleepTime': 23,\n",
       " 'smoker': True,\n",
       " 'smoking': 1,\n",
       " 'snoring': 1,\n",
       " 'stability': 0,\n",
       " 'swallowingDifficulty': 1,\n",
       " 'weightLoss': 1,\n",
       " 'wheezing': 1}"
      ]
     },
     "execution_count": 23,
     "metadata": {},
     "output_type": "execute_result"
    }
   ],
   "source": [
    "def load_input(reference):\n",
    "    cred = credentials.Certificate(\"dfos-healthai-firebase-adminsdk-aiz5j-a013f16cbc.json\")\n",
    "    fb_a.initialize_app(cred, {'databaseURL': 'https://dfos-healthai-default-rtdb.firebaseio.com/'})\n",
    "    \n",
    "    ref = db.reference(reference)\n",
    "    data = ref.get()\n",
    "\n",
    "    fb_a.delete_app(fb_a.get_app())\n",
    "    \n",
    "    return data\n",
    "    \n",
    "user_form = load_input('/Users/MWt7bidcbHTC1Mrj6Qp7nBxmaJH2/forms/-NkV5Lw7eexTNWPrfLfs')\n",
    "user_form"
   ]
  },
  {
   "cell_type": "code",
   "execution_count": 62,
   "id": "b2e9362a",
   "metadata": {},
   "outputs": [
    {
     "data": {
      "text/plain": [
       "(Index(['Smoking_No', 'Smoking_Yes', 'AlcoholDrinking_No',\n",
       "        'AlcoholDrinking_Yes', 'Stroke_No', 'Stroke_Yes', 'DiffWalking_No',\n",
       "        'DiffWalking_Yes', 'Sex_Female', 'Sex_Male', 'AgeCategory_18-24',\n",
       "        'AgeCategory_25-29', 'AgeCategory_30-34', 'AgeCategory_35-39',\n",
       "        'AgeCategory_40-44', 'AgeCategory_45-49', 'AgeCategory_50-54',\n",
       "        'AgeCategory_55-59', 'AgeCategory_60-64', 'AgeCategory_65-69',\n",
       "        'AgeCategory_70-74', 'AgeCategory_75-79', 'AgeCategory_80 or older',\n",
       "        'Race_American Indian/Alaskan Native', 'Race_Asian', 'Race_Black',\n",
       "        'Race_Hispanic', 'Race_Other', 'Race_White', 'Diabetic_No',\n",
       "        'Diabetic_No, borderline diabetes', 'Diabetic_Yes',\n",
       "        'Diabetic_Yes (during pregnancy)', 'PhysicalActivity_No',\n",
       "        'PhysicalActivity_Yes', 'GenHealth_Excellent', 'GenHealth_Fair',\n",
       "        'GenHealth_Good', 'GenHealth_Poor', 'GenHealth_Very good', 'Asthma_No',\n",
       "        'Asthma_Yes', 'KidneyDisease_No', 'KidneyDisease_Yes', 'SkinCancer_No',\n",
       "        'SkinCancer_Yes', 'BMI', 'PhysicalHealth', 'MentalHealth', 'SleepTime'],\n",
       "       dtype='object'),\n",
       " Index(['Age', 'Gender', 'Air Pollution', 'Alcohol use', 'Dust Allergy',\n",
       "        'OccuPational Hazards', 'Genetic Risk', 'chronic Lung Disease',\n",
       "        'Balanced Diet', 'Obesity', 'Smoking', 'Passive Smoker', 'Chest Pain',\n",
       "        'Coughing of Blood', 'Fatigue', 'Weight Loss', 'Shortness of Breath',\n",
       "        'Wheezing', 'Swallowing Difficulty', 'Clubbing of Finger Nails',\n",
       "        'Frequent Cold', 'Dry Cough', 'Snoring'],\n",
       "       dtype='object'),\n",
       " Index(['hadPreviousCancer', 'hadPreviousColonCancer', 'hasFamilyHistory',\n",
       "        'hadRadiationTherapy', 'isOldAge', 'hasIBD', 'hasObesity', 'isSmoker',\n",
       "        'isDrinker', 'exercisesRegularly', 'hasHighFatDiet'],\n",
       "       dtype='object'))"
      ]
     },
     "execution_count": 62,
     "metadata": {},
     "output_type": "execute_result"
    }
   ],
   "source": [
    "hd_X.columns, lc_X.columns, cc_X.columns"
   ]
  },
  {
   "cell_type": "code",
   "execution_count": 22,
   "id": "7ed214da",
   "metadata": {
    "scrolled": true
   },
   "outputs": [
    {
     "data": {
      "text/plain": [
       "AgeCategory_18-24                      0.000000\n",
       "AgeCategory_25-29                      0.000000\n",
       "AgeCategory_30-34                      0.000000\n",
       "AgeCategory_35-39                      0.000000\n",
       "AgeCategory_40-44                      0.000000\n",
       "AgeCategory_45-49                      0.000000\n",
       "AgeCategory_50-54                      0.000000\n",
       "AgeCategory_55-59                      1.000000\n",
       "AgeCategory_60-64                      0.000000\n",
       "AgeCategory_65-69                      0.000000\n",
       "AgeCategory_70-74                      0.000000\n",
       "AgeCategory_75-79                      0.000000\n",
       "AgeCategory_80 or older                0.000000\n",
       "Race_American Indian/Alaskan Native    0.000000\n",
       "Race_Asian                             0.000000\n",
       "Race_Black                             0.000000\n",
       "Race_Hispanic                          0.000000\n",
       "Race_Other                             0.000000\n",
       "Race_White                             1.000000\n",
       "Diabetic_No                            0.000000\n",
       "Diabetic_No, borderline diabetes       0.000000\n",
       "Diabetic_Yes                           1.000000\n",
       "Diabetic_Yes (during pregnancy)        0.000000\n",
       "GenHealth_Excellent                    0.000000\n",
       "GenHealth_Fair                         0.000000\n",
       "GenHealth_Good                         0.000000\n",
       "GenHealth_Poor                         0.000000\n",
       "GenHealth_Very good                    1.000000\n",
       "BMI                                    0.055294\n",
       "Smoking                                1.000000\n",
       "AlcoholDrinking                        0.000000\n",
       "Stroke                                 0.000000\n",
       "PhysicalHealth                         0.100000\n",
       "MentalHealth                           1.000000\n",
       "DiffWalking                            0.000000\n",
       "Sex                                    1.000000\n",
       "PhysicalActivity                       1.000000\n",
       "SleepTime                              0.173913\n",
       "Asthma                                 1.000000\n",
       "KidneyDisease                          0.000000\n",
       "SkinCancer                             1.000000\n",
       "Name: 0, dtype: float64"
      ]
     },
     "execution_count": 22,
     "metadata": {},
     "output_type": "execute_result"
    }
   ],
   "source": [
    "hd_X.loc[0, :]"
   ]
  },
  {
   "cell_type": "code",
   "execution_count": 21,
   "id": "3d87b303",
   "metadata": {},
   "outputs": [
    {
     "data": {
      "text/plain": [
       "21"
      ]
     },
     "execution_count": 21,
     "metadata": {},
     "output_type": "execute_result"
    }
   ],
   "source": [
    "def make_predictables(form):\n",
    "    hd_scaler, lc_scaler, cc_scaler = load_scalers()\n",
    "    \n",
    "    # Heart Disease\n",
    "    hd_predictable = [0] * 41\n",
    "    \n",
    "    ## AgeCategory\n",
    "    age = form['age']\n",
    "    if age < 25:\n",
    "        hd_predictable[0] = 1\n",
    "    elif age < 30:\n",
    "        hd_predictable[1] = 1\n",
    "    elif age < 35:\n",
    "        hd_predictable[2] = 1\n",
    "    elif age < 40:\n",
    "        hd_predictable[3] = 1\n",
    "    elif age < 45:\n",
    "        hd_predictable[4] = 1\n",
    "    elif age < 50:\n",
    "        hd_predictable[5] = 1\n",
    "    elif age < 55:\n",
    "        hd_predictable[6] = 1\n",
    "    elif age < 60:\n",
    "        hd_predictable[7] = 1\n",
    "    elif age < 65:\n",
    "        hd_predictable[8] = 1\n",
    "    elif age < 70:\n",
    "        hd_predictable[9] = 1\n",
    "    elif age < 75:\n",
    "        hd_predictable[10] = 1\n",
    "    elif age < 80:\n",
    "        hd_predictable[11] = 1\n",
    "    else: # 80+\n",
    "        hd_predictable[12] = 1\n",
    "        \n",
    "    ## Race\n",
    "    race = form['race']\n",
    "    if race == 'American Indian/Alaskan Native':\n",
    "        hd_predictable[13] = 1\n",
    "    elif race == 'Asian':\n",
    "        hd_predictable[14] = 1\n",
    "    elif race == 'Black':\n",
    "        hd_predictable[15] = 1\n",
    "    elif race == 'Hispanic:'\n",
    "        hd_predictable[16] = 1\n",
    "    elif race == 'Other':\n",
    "        hd_predictable[17] = 1\n",
    "    else: #race == 'White'\n",
    "        hd_predictable[18] = 1\n",
    "    \n",
    "    ## Diabetic\n",
    "    diabetic = form['diabetic']\n",
    "    if diabetic == 'No':\n",
    "        hd_predictable[19] = 1\n",
    "    elif diabetic == 'No, borderline diabetes':\n",
    "        hd_predictable[20] = 1\n",
    "    elif diabetic == 'Yes':\n",
    "        hd_predictable[21] = 1\n",
    "    else: #diabetic == 'Yes (during pregnancy)'\n",
    "        hd_predictable[22] = 1\n",
    "        \n",
    "    ## Gen Health\n",
    "    generalHealth = form['generalHealth']\n",
    "    if generalHealth == 'Excellent':\n",
    "        hd_predictable[23] = 1\n",
    "    elif generalHealth == 'Fair':\n",
    "        hd_predictable[24] = 1\n",
    "    elif generalHealth == 'Good':\n",
    "        hd_predictable[25] = 1\n",
    "    elif generalHealth == 'Poor':\n",
    "        hd_predictable[26] = 1\n",
    "    else: #generalHealth == 'Very Good'\n",
    "        hd_predictable[27] = 1\n",
    "    \n",
    "    ## BMI, \n",
    "    bmi = form['bmi']\n",
    "    smoking = form['smoking']\n",
    "    alcoholDrinking = form['alcoholUse']\n",
    "    stroke = form['hasHadStroke']\n",
    "    physicalHealth = form['physicalHealth']\n",
    "    mentalHealth = form['']\n",
    "    diffWalking = form['']\n",
    "    sex = form['']\n",
    "    physicalActivity = form['physicalActivity']\n",
    "    sleepTime = form['']\n",
    "    asthma = form['']\n",
    "    kidneyDisease = form['']\n",
    "    skinCancer = form['']\n",
    "    \n",
    "    BMI                                    0.055294\n",
    "Smoking                                1.000000\n",
    "AlcoholDrinking                        0.000000\n",
    "Stroke                                 0.000000\n",
    "PhysicalHealth                         0.100000\n",
    "MentalHealth                           1.000000\n",
    "DiffWalking                            0.000000\n",
    "Sex                                    1.000000\n",
    "PhysicalActivity                       1.000000\n",
    "SleepTime                              0.173913\n",
    "Asthma                                 1.000000\n",
    "KidneyDisease                          0.000000\n",
    "SkinCancer                             1.000000\n",
    "\n",
    "user_form['age']"
   ]
  },
  {
   "cell_type": "code",
   "execution_count": 27,
   "id": "be9b69b5",
   "metadata": {},
   "outputs": [
    {
     "data": {
      "text/plain": [
       "(Index(['BMI', 'Smoking', 'AlcoholDrinking', 'Stroke', 'PhysicalHealth',\n",
       "        'MentalHealth', 'DiffWalking', 'Sex', 'PhysicalActivity', 'SleepTime',\n",
       "        'Asthma', 'KidneyDisease', 'SkinCancer'],\n",
       "       dtype='object'),\n",
       " Index(['AgeCategory', 'Race', 'Diabetic', 'GenHealth'], dtype='object'),\n",
       " Index(['Age', 'Gender', 'Air Pollution', 'Alcohol use', 'Dust Allergy',\n",
       "        'OccuPational Hazards', 'Genetic Risk', 'chronic Lung Disease',\n",
       "        'Balanced Diet', 'Obesity', 'Smoking', 'Passive Smoker', 'Chest Pain',\n",
       "        'Coughing of Blood', 'Fatigue', 'Weight Loss', 'Shortness of Breath',\n",
       "        'Wheezing', 'Swallowing Difficulty', 'Clubbing of Finger Nails',\n",
       "        'Frequent Cold', 'Dry Cough', 'Snoring'],\n",
       "       dtype='object'),\n",
       " Index([], dtype='object'),\n",
       " Index(['hadPreviousCancer', 'hadPreviousColonCancer', 'hasFamilyHistory',\n",
       "        'hadRadiationTherapy', 'isOldAge', 'hasIBD', 'hasObesity', 'isSmoker',\n",
       "        'isDrinker', 'exercisesRegularly', 'hasHighFatDiet'],\n",
       "       dtype='object'),\n",
       " Index([], dtype='object'))"
      ]
     },
     "execution_count": 27,
     "metadata": {},
     "output_type": "execute_result"
    }
   ],
   "source": [
    "hd_num.columns, hd_cat.columns, lc_num.columns, lc_cat.columns, cc_num.columns, cc_cat.columns"
   ]
  },
  {
   "cell_type": "code",
   "execution_count": null,
   "id": "b501c1bf",
   "metadata": {},
   "outputs": [],
   "source": []
  }
 ],
 "metadata": {
  "kernelspec": {
   "display_name": "Python 3 (ipykernel)",
   "language": "python",
   "name": "python3"
  },
  "language_info": {
   "codemirror_mode": {
    "name": "ipython",
    "version": 3
   },
   "file_extension": ".py",
   "mimetype": "text/x-python",
   "name": "python",
   "nbconvert_exporter": "python",
   "pygments_lexer": "ipython3",
   "version": "3.11.5"
  }
 },
 "nbformat": 4,
 "nbformat_minor": 5
}
